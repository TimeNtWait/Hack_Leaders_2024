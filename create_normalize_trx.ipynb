{
 "cells": [
  {
   "cell_type": "markdown",
   "metadata": {
    "pycharm": {
     "name": "#%% md\n"
    }
   },
   "source": [
    "# Нормализуем суммы в транзакциях   "
   ]
  },
  {
   "cell_type": "markdown",
   "metadata": {
    "pycharm": {
     "name": "#%% md\n"
    }
   },
   "source": [
    "Цель: предсказать для каждого пользователя взятие/ невзятие каждого из четырех продуктов **в течение месяца после отчетной даты**, исторические данные по ним находятся в targets"
   ]
  },
  {
   "cell_type": "markdown",
   "metadata": {
    "pycharm": {
     "name": "#%% md\n"
    }
   },
   "source": [
    "## Данные\n",
    "\n",
    "\n",
    "\n",
    "### Transactions\n",
    "|title|description|\n",
    "|---|---|\n",
    "|client_id|id клиента|\n",
    "|amount|Сумма транзакции|\n",
    "|event_time|Дата транзакции|\n",
    "|event_type|Тип транзакции|\n",
    "|event_subtype|Уточнение типа транзакции|\n",
    "|currency|Валюта|\n",
    "|src_type11|Признак 1 для отправителя|\n",
    "|src_type12|Уточнение признака 1 для отправителя|\n",
    "|dst_type11|Признак 1 для контрагента|\n",
    "|dst_type12|Уточнение для признака 1 для контрагента|  \n",
    "|src_type21|Признак 2 для отправителя|  \n",
    "|src_type22|Уточнение признака 2 для отправителя|\n",
    "|src_type31|Признак 3 для отправителя|\n",
    "|src_type32|Уточнение признака 3 для отправителя|"
   ]
  },
  {
   "cell_type": "markdown",
   "metadata": {},
   "source": [
    "### Внешние источники данных:  \n",
    "- Открытые данные ЦБ РФ по инфляции  \n",
    "График инфляции и ключ.ставки за каждый месяц доступны по ссылке: https://www.cbr.ru/hd_base/infl/  \n",
    "Данные представлены за каждый месяц.    \n",
    "На основе данных ЦБ по инфляции для каждого периода рассчитана в виде кумулятивного процента (накопительный процент с учетом прошлых месяцев).  \n",
    "Далее составлен словарь для каждого месяца с указанием на сколько надо умножить сумму транзакции, чтобы привести все к текущим значениям. И данная операция была проведена над всеми данными.   \n",
    "\n",
    "- Открытые данные ЦБ РФ по курсам валют.   \n",
    "Курсы валют за каждый день доступны по ссылке: https://www.cbr.ru/currency_base/dynamics/   \n",
    "\n",
    "Валюты представлены в зашифрованном виде:  \n",
    "11.0    167351850   \n",
    "1.0         47897  \n",
    "14.0        39889  \n",
    "7.0         21909  \n",
    "17.0         2115   \n",
    "9.0          2074  \n",
    "….  \n",
    "Можно привести самые первые транзакции к рублям, если сделать такое предположение, что чаще всего используются рубли (11), далее  это доллары (1) и евро (14), далее другая валюта. Другими популярными валютами являются, например, белорусские рубли и юани.   Кроме долларов и евро, курс у остальных валют колеблется в районе 20 руб.  \n",
    "   \n",
    "Т.к. данных довольно много, то было применено простое приведение сумм к рублям:  \n",
    "- рубли (код 11), оставлен без изменения  \n",
    "- валюты с кодами 1 и 14 были умножены на среднее значение доллара и евро за указанный период 2022 год это ~70 рублей  \n",
    "- Остальная валюта умножена на значение 20  \n"
   ]
  },
  {
   "cell_type": "code",
   "execution_count": 97,
   "metadata": {
    "pycharm": {
     "name": "#%%\n"
    }
   },
   "outputs": [],
   "source": [
    "import pandas as pd\n",
    "from pandas.api.types import is_float_dtype, is_integer_dtype\n",
    "import numpy as np\n",
    "from datetime import datetime\n",
    "from dateutil.relativedelta import relativedelta\n",
    "\n",
    "import glob\n",
    "import pyarrow.parquet as pq\n",
    "from tqdm import trange, tqdm"
   ]
  },
  {
   "cell_type": "code",
   "execution_count": 3,
   "metadata": {},
   "outputs": [],
   "source": [
    "from typing import List, Optional"
   ]
  },
  {
   "cell_type": "code",
   "execution_count": 4,
   "metadata": {},
   "outputs": [],
   "source": [
    "import warnings\n",
    "\n",
    "warnings.filterwarnings('ignore')\n",
    "warnings.filterwarnings('ignore', category=UserWarning, module='pandas')"
   ]
  },
  {
   "cell_type": "code",
   "execution_count": 5,
   "metadata": {},
   "outputs": [],
   "source": [
    "import seaborn as sns\n",
    "import matplotlib.pyplot as plt\n",
    "%matplotlib inline\n",
    "# найтройки\n",
    "# Убираем ограничение отображемых колонок\n",
    "pd.set_option(\"display.max_columns\", None)\n",
    "# Устанавливаем тему по умолчанию\n",
    "sb_dark = sns.dark_palette('skyblue', 8, reverse=True) # teal\n",
    "sns.set(palette=sb_dark)"
   ]
  },
  {
   "cell_type": "code",
   "execution_count": 6,
   "metadata": {
    "pycharm": {
     "name": "#%%\n"
    }
   },
   "outputs": [],
   "source": [
    "# Включаем tqdm для pandas, чтобы можно было запускать progress_apply() вместо простого apply()\n",
    "tqdm.pandas() \n",
    "pd.options.display.max_columns = None\n",
    "pd.options.display.max_rows = 200"
   ]
  },
  {
   "cell_type": "code",
   "execution_count": 7,
   "metadata": {},
   "outputs": [],
   "source": [
    "eps = 1e-6"
   ]
  },
  {
   "cell_type": "code",
   "execution_count": 10,
   "metadata": {
    "pycharm": {
     "name": "#%%\n"
    }
   },
   "outputs": [
    {
     "data": {
      "text/plain": [
       "(14, 3)"
      ]
     },
     "execution_count": 10,
     "metadata": {},
     "output_type": "execute_result"
    }
   ],
   "source": [
    "PATH = ''\n",
    "PATH_DATASET = PATH + 'datasets/sber_source/'\n",
    "PATH_DATASET_OUTPUT = PATH + 'datasets/'\n",
    "PATH_DATASET_TRX_TRAIN = PATH_DATASET + 'trx_train.parquet/'\n",
    "PATH_DATASET_TRX_TEST = PATH_DATASET + 'trx_test.parquet/'\n",
    "\n",
    "PATH_DATASET_TARGET_TRAIN = PATH_DATASET + 'train_target.parquet/'\n",
    "PATH_DATASET_TARGET_TEST = PATH_DATASET + 'test_target_b.parquet/'\n",
    "\n",
    "# Определяем пути к данным транзакциям\n",
    "train_trx_files = glob.glob(PATH_DATASET_TRX_TRAIN + '/*.parquet')\n",
    "test_trx_files = glob.glob(PATH_DATASET_TRX_TEST + '/*.parquet')\n",
    "\n",
    "# таргеты\n",
    "train_target_files = glob.glob(PATH_DATASET_TARGET_TRAIN + '/*.parquet')\n",
    "test_target_files = glob.glob(PATH_DATASET_TARGET_TEST + '/*.parquet')\n",
    "\n",
    "len(train_trx_files), len(test_trx_files)"
   ]
  },
  {
   "cell_type": "code",
   "execution_count": 11,
   "metadata": {
    "pycharm": {
     "name": "#%%\n"
    }
   },
   "outputs": [],
   "source": [
    "# Загрузка списка файлов (типа паркет) в один датафрейм\n",
    "def load_df_by_files(files:list[str]) -> pd.DataFrame:\n",
    "    union_df = pd.DataFrame()\n",
    "    for file in tqdm(files):\n",
    "        current_df = pq.read_table(file).to_pandas()    \n",
    "        union_df = pd.concat([union_df, current_df])\n",
    "    return union_df"
   ]
  },
  {
   "cell_type": "code",
   "execution_count": 91,
   "metadata": {
    "pycharm": {
     "name": "#%%\n"
    }
   },
   "outputs": [],
   "source": [
    "# %%time\n",
    "# # Загружаем все таргеты\n",
    "# all_target_df = load_df_by_files(train_target_files + test_target_files)\n",
    "# all_target_df.shape"
   ]
  },
  {
   "cell_type": "code",
   "execution_count": 13,
   "metadata": {},
   "outputs": [
    {
     "name": "stdout",
     "output_type": "stream",
     "text": [
      "CPU times: total: 2min 20s\n",
      "Wall time: 2min 58s\n"
     ]
    },
    {
     "data": {
      "text/plain": [
       "(215076361, 14)"
      ]
     },
     "execution_count": 13,
     "metadata": {},
     "output_type": "execute_result"
    }
   ],
   "source": [
    "%%time\n",
    "compress_trx_df = pq.read_table(PATH_DATASET_OUTPUT + 'compress_trx_df_06_06_2024.parquet').to_pandas()\n",
    "compress_trx_df.shape"
   ]
  },
  {
   "cell_type": "markdown",
   "metadata": {},
   "source": [
    "## Нормализация сумм транзакций"
   ]
  },
  {
   "attachments": {},
   "cell_type": "markdown",
   "metadata": {},
   "source": [
    "1. Учитываем инфляцию  \n",
    "2. Учитываем курс валют  \n",
    "Валюты представлены в зашифрованном виде  \n",
    "11.0    167351850  \n",
    "1.0         47897  \n",
    "14.0        39889  \n",
    "7.0         21909    \n",
    "17.0         2115  \n",
    "9.0          2074  \n",
    "….\n",
    "Можно привести самые первые транзакции к рублям, если сделать предположение:   \n",
    "- что чаще всего используются рубли (11),   \n",
    "- далее это доллары (1)   \n",
    "- и евро (14), далее другая валюта. \n",
    "- Другими популярными валютами являются, например, белорусские рубли и юани.  \n",
    "- Кроме долларов и евро, курс у остальных валют колеблется в районе 20 руб.  \n",
    "\n",
    "По данным ЦБ в среднем курс доллара за рассматриваемый период был 68,3838, а евро за был 72,2106. Можно взять в среднем 70 руб.  "
   ]
  },
  {
   "cell_type": "code",
   "execution_count": 62,
   "metadata": {
    "scrolled": true
   },
   "outputs": [
    {
     "name": "stdout",
     "output_type": "stream",
     "text": [
      "CPU times: total: 3.77 s\n",
      "Wall time: 2.25 s\n"
     ]
    },
    {
     "data": {
      "text/plain": [
       "(215076361, 15)"
      ]
     },
     "execution_count": 62,
     "metadata": {},
     "output_type": "execute_result"
    }
   ],
   "source": [
    "%%time\n",
    "compress_trx_df['normal_amount'] = np.where(\n",
    "    compress_trx_df['currency'] == 11, \n",
    "    compress_trx_df['amount'],\n",
    "    np.where(compress_trx_df['currency'].isin([1,14]), \n",
    "             compress_trx_df['amount'] * 70,\n",
    "             compress_trx_df['amount'] * 20\n",
    "    )\n",
    ")\n",
    "compress_trx_df.shape"
   ]
  },
  {
   "cell_type": "code",
   "execution_count": 78,
   "metadata": {
    "scrolled": true
   },
   "outputs": [
    {
     "data": {
      "text/plain": [
       "(37, 9)"
      ]
     },
     "execution_count": 78,
     "metadata": {},
     "output_type": "execute_result"
    }
   ],
   "source": [
    "# Загружаем инфляцию\n",
    "# Например с января 2021 года по января 2024 года рубль инфляция съела 0,3 рубля\n",
    "inflation_df = pd.read_excel(PATH_DATASET_OUTPUT + 'outside_data/inflation.xlsx').rename(columns={'Месяц': 'month', 'Год': 'year'})\n",
    "\n",
    "inflation_dict = {}\n",
    "for y, m, c in inflation_df[['year', 'month', 'cumulative_inflation']].to_dict('split')['data']:\n",
    "    if y not in inflation_dict:\n",
    "        inflation_dict[y] = {}\n",
    "    inflation_dict[y][m] = c\n",
    "    \n",
    "inflation_df.shape"
   ]
  },
  {
   "cell_type": "code",
   "execution_count": 90,
   "metadata": {},
   "outputs": [
    {
     "name": "stderr",
     "output_type": "stream",
     "text": [
      "100%|██████████| 215076361/215076361 [45:48<00:00, 78238.81it/s] \n"
     ]
    },
    {
     "data": {
      "text/plain": [
       "(215076361, 15)"
      ]
     },
     "execution_count": 90,
     "metadata": {},
     "output_type": "execute_result"
    }
   ],
   "source": [
    "# Нормализация цен по инфляции\n",
    "def amt_normalize(x):\n",
    "    # Нормируем к инфляции рублевой\n",
    "    normal_amt = x.normal_amount * inflation_dict[x.event_time.year][x.event_time.month]\n",
    "    return normal_amt\n",
    "\n",
    "compress_trx_df['normal_amount'] = compress_trx_df[['event_time', 'normal_amount']].progress_apply(lambda x: amt_normalize(x), axis=1)\n",
    "compress_trx_df.shape"
   ]
  },
  {
   "cell_type": "code",
   "execution_count": 92,
   "metadata": {},
   "outputs": [
    {
     "name": "stdout",
     "output_type": "stream",
     "text": [
      "CPU times: total: 15.6 ms\n",
      "Wall time: 41 ms\n"
     ]
    }
   ],
   "source": [
    "%%time\n",
    "# Уменьшение размера датафрейма, для таргетов, транзакцй и для фичей\n",
    "def series_to_int(col_df:pd.Series):\n",
    "    \"\"\"\n",
    "    Перевод в целочисленные типы\n",
    "    \"\"\"\n",
    "    min_val = col_df.min()\n",
    "    max_val = col_df.max()\n",
    "    if min_val >= -128 and max_val <= 127:\n",
    "        col_df = col_df.astype('int8')\n",
    "    elif min_val >= -32768 and max_val <= 32767:\n",
    "        col_df = col_df.astype('int16')\n",
    "    elif min_val >= -2147483648 and max_val <= 2147483647:\n",
    "        col_df = col_df.astype('int32')\n",
    "    else:\n",
    "        col_df = col_df.astype('int64')\n",
    "    return col_df\n",
    "\n",
    "def compression_df(df:pd.DataFrame(), datetime_cols:List[str]=[], category_cols:List[str]=[]):\n",
    "    \"\"\"\n",
    "    Уменьшение размера датафрейма, для таргетов, транзакцй и для фичей\n",
    "    \"\"\"\n",
    "    float64_cols = list(df.select_dtypes(include='float64'))  \n",
    "    df[float64_cols] = df[float64_cols].astype('float32')\n",
    "    for col in df.columns:\n",
    "        if col in category_cols:\n",
    "            df[col] = df[col].astype('category')\n",
    "        elif col in datetime_cols:\n",
    "            if df[col].dtypes == 'object':\n",
    "                df[col] = pd.to_datetime(df[col])\n",
    "        # Если колонка содержит числа \n",
    "        elif is_integer_dtype(df[col]):\n",
    "            if df[col].dtypes == 'int8':\n",
    "                continue\n",
    "            else:\n",
    "                df[col] = series_to_int(df[col])\n",
    "        elif is_float_dtype(df[col]):\n",
    "            # Возможно ли перевести в число\n",
    "            if np.array_equal(df[col].fillna(0), df[col].fillna(0).astype(int)):\n",
    "                df[col] = df[col].fillna(0)\n",
    "                df[col] = series_to_int(df[col])\n",
    "    return df"
   ]
  },
  {
   "cell_type": "code",
   "execution_count": 98,
   "metadata": {},
   "outputs": [
    {
     "data": {
      "text/plain": [
       "(215076361, 15)"
      ]
     },
     "execution_count": 98,
     "metadata": {},
     "output_type": "execute_result"
    }
   ],
   "source": [
    "compress_trx_df = compression_df(compress_trx_df, \n",
    "                            datetime_cols=['report_end' ,'report_next_end', 'event_time'],\n",
    "                           )\n",
    "compress_trx_df.shape"
   ]
  },
  {
   "cell_type": "code",
   "execution_count": 99,
   "metadata": {},
   "outputs": [
    {
     "name": "stdout",
     "output_type": "stream",
     "text": [
      "<class 'pandas.core.frame.DataFrame'>\n",
      "Index: 215076361 entries, 0 to 11219876\n",
      "Data columns (total 15 columns):\n",
      " #   Column         Dtype         \n",
      "---  ------         -----         \n",
      " 0   event_time     datetime64[us]\n",
      " 1   amount         float32       \n",
      " 2   client_id      category      \n",
      " 3   event_type     int8          \n",
      " 4   event_subtype  int8          \n",
      " 5   currency       int8          \n",
      " 6   src_type11     int16         \n",
      " 7   src_type12     int16         \n",
      " 8   dst_type11     int16         \n",
      " 9   dst_type12     int16         \n",
      " 10  src_type21     int32         \n",
      " 11  src_type22     int8          \n",
      " 12  src_type31     int16         \n",
      " 13  src_type32     int8          \n",
      " 14  normal_amount  float32       \n",
      "dtypes: category(1), datetime64[us](1), float32(2), int16(5), int32(1), int8(5)\n",
      "memory usage: 9.5 GB\n"
     ]
    }
   ],
   "source": [
    "compress_trx_df.info()"
   ]
  },
  {
   "cell_type": "code",
   "execution_count": 106,
   "metadata": {},
   "outputs": [
    {
     "name": "stdout",
     "output_type": "stream",
     "text": [
      "CPU times: total: 3.2 s\n",
      "Wall time: 3.26 s\n"
     ]
    },
    {
     "data": {
      "text/plain": [
       "(215076361, 15)"
      ]
     },
     "execution_count": 106,
     "metadata": {},
     "output_type": "execute_result"
    }
   ],
   "source": [
    "%%time\n",
    "compress_trx_df['client_id'] = compress_trx_df['client_id'].astype('object')\n",
    "compress_trx_df.shape"
   ]
  },
  {
   "cell_type": "code",
   "execution_count": 108,
   "metadata": {},
   "outputs": [
    {
     "name": "stdout",
     "output_type": "stream",
     "text": [
      "CPU times: total: 1min 19s\n",
      "Wall time: 1min 19s\n"
     ]
    }
   ],
   "source": [
    "%%time\n",
    "# Сохраняем в файл оптимизированный файл \n",
    "compress_trx_df.to_parquet(PATH_DATASET_OUTPUT + 'compress_norm_trx_df_11_06_2024.parquet')"
   ]
  },
  {
   "cell_type": "code",
   "execution_count": null,
   "metadata": {},
   "outputs": [],
   "source": []
  }
 ],
 "metadata": {
  "kernelspec": {
   "display_name": "Python 3 (ipykernel)",
   "language": "python",
   "name": "python3"
  },
  "language_info": {
   "codemirror_mode": {
    "name": "ipython",
    "version": 3
   },
   "file_extension": ".py",
   "mimetype": "text/x-python",
   "name": "python",
   "nbconvert_exporter": "python",
   "pygments_lexer": "ipython3",
   "version": "3.11.3"
  }
 },
 "nbformat": 4,
 "nbformat_minor": 1
}
