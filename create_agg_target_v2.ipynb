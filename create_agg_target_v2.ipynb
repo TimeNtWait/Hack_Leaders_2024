{
 "cells": [
  {
   "cell_type": "markdown",
   "metadata": {
    "pycharm": {
     "name": "#%% md\n"
    }
   },
   "source": [
    "# Фичи по таргету   "
   ]
  },
  {
   "cell_type": "markdown",
   "metadata": {
    "pycharm": {
     "name": "#%% md\n"
    }
   },
   "source": [
    "Цель: предсказать для каждого пользователя взятие/ невзятие каждого из четырех продуктов **в течение месяца после отчетной даты**, исторические данные по ним находятся в targets"
   ]
  },
  {
   "cell_type": "code",
   "execution_count": 1,
   "metadata": {
    "pycharm": {
     "name": "#%%\n"
    }
   },
   "outputs": [
    {
     "name": "stderr",
     "output_type": "stream",
     "text": [
      "C:\\Users\\Profit77\\AppData\\Roaming\\Python\\Python311\\site-packages\\pandas\\core\\arrays\\masked.py:60: UserWarning: Pandas requires version '1.3.6' or newer of 'bottleneck' (version '1.3.5' currently installed).\n",
      "  from pandas.core import (\n"
     ]
    }
   ],
   "source": [
    "import numpy as np\n",
    "\n",
    "import pandas as pd\n",
    "from pandas.api.types import is_float_dtype, is_integer_dtype\n",
    "\n",
    "from collections import Counter\n",
    "from sklearn.utils import resample\n",
    "\n",
    "from datetime import datetime, timedelta\n",
    "from dateutil.relativedelta import relativedelta\n",
    "\n",
    "import gc\n",
    "import glob\n",
    "import pyarrow.parquet as pq\n",
    "from tqdm import trange, tqdm"
   ]
  },
  {
   "cell_type": "code",
   "execution_count": 2,
   "metadata": {},
   "outputs": [],
   "source": [
    "from typing import List, Optional, Tuple"
   ]
  },
  {
   "cell_type": "code",
   "execution_count": 3,
   "metadata": {},
   "outputs": [],
   "source": [
    "import warnings\n",
    "\n",
    "warnings.filterwarnings('ignore')\n",
    "warnings.filterwarnings('ignore', category=UserWarning, module='pandas')"
   ]
  },
  {
   "cell_type": "code",
   "execution_count": 4,
   "metadata": {},
   "outputs": [],
   "source": [
    "import seaborn as sns\n",
    "import matplotlib.pyplot as plt\n",
    "%matplotlib inline\n",
    "# найтройки\n",
    "# Убираем ограничение отображемых колонок\n",
    "pd.set_option(\"display.max_columns\", None)\n",
    "# Устанавливаем тему по умолчанию\n",
    "sb_dark = sns.dark_palette('skyblue', 8, reverse=True) # teal\n",
    "sns.set(palette=sb_dark)"
   ]
  },
  {
   "cell_type": "code",
   "execution_count": 5,
   "metadata": {
    "pycharm": {
     "name": "#%%\n"
    }
   },
   "outputs": [],
   "source": [
    "# Включаем tqdm для pandas, чтобы можно было запускать progress_apply() вместо простого apply()\n",
    "tqdm.pandas() \n",
    "pd.options.display.max_columns = None\n",
    "pd.options.display.max_rows = 200"
   ]
  },
  {
   "cell_type": "code",
   "execution_count": 6,
   "metadata": {},
   "outputs": [],
   "source": [
    "eps = 1e-6"
   ]
  },
  {
   "cell_type": "code",
   "execution_count": 7,
   "metadata": {
    "pycharm": {
     "name": "#%%\n"
    }
   },
   "outputs": [
    {
     "data": {
      "text/plain": [
       "(11, 11)"
      ]
     },
     "execution_count": 7,
     "metadata": {},
     "output_type": "execute_result"
    }
   ],
   "source": [
    "PATH = ''\n",
    "PATH_DATASET = PATH + 'datasets/sber_source/'\n",
    "PATH_DATASET_OUTPUT = PATH + 'datasets/'\n",
    "\n",
    "PATH_DATASET_TARGET_TRAIN = PATH_DATASET + 'train_target.parquet/'\n",
    "PATH_DATASET_TARGET_TEST = PATH_DATASET + 'test_target_b.parquet/'\n",
    "\n",
    "# таргеты\n",
    "train_target_files = glob.glob(PATH_DATASET_TARGET_TRAIN + '/*.parquet')\n",
    "test_target_files = glob.glob(PATH_DATASET_TARGET_TEST + '/*.parquet')\n",
    "\n",
    "len(train_target_files), len(test_target_files)"
   ]
  },
  {
   "cell_type": "code",
   "execution_count": 8,
   "metadata": {
    "pycharm": {
     "name": "#%%\n"
    },
    "scrolled": true
   },
   "outputs": [
    {
     "name": "stdout",
     "output_type": "stream",
     "text": [
      "CPU times: total: 3.03 s\n",
      "Wall time: 2.06 s\n"
     ]
    },
    {
     "data": {
      "text/plain": [
       "(11686066, 6)"
      ]
     },
     "execution_count": 8,
     "metadata": {},
     "output_type": "execute_result"
    }
   ],
   "source": [
    "%%time\n",
    "# Загружаем факты продаж продуктов по трейн клиентам\n",
    "targets_df = pq.read_table(PATH_DATASET_OUTPUT + 'compress_targets_08_06_2024.parquet').to_pandas()\n",
    "# targets_df = targets_df.rename(columns={'mon': 'report_next_end'})\n",
    "targets_df = targets_df.reset_index()\n",
    "targets_df = targets_df[['client_id', 'mon', 'target_1', 'target_2', 'target_3', 'target_4']]\n",
    "targets_df.shape"
   ]
  },
  {
   "cell_type": "code",
   "execution_count": null,
   "metadata": {},
   "outputs": [],
   "source": []
  },
  {
   "cell_type": "code",
   "execution_count": 9,
   "metadata": {},
   "outputs": [
    {
     "data": {
      "text/plain": [
       "(11654375, 6)"
      ]
     },
     "execution_count": 9,
     "metadata": {},
     "output_type": "execute_result"
    }
   ],
   "source": [
    "# В данных встречаются дубли клиент+отчетный месяц. Там всегда нули, поэтому просто удаляем дубли \n",
    "targets_df = targets_df.drop_duplicates(subset=['client_id', 'mon'])\n",
    "targets_df.shape"
   ]
  },
  {
   "cell_type": "code",
   "execution_count": 10,
   "metadata": {},
   "outputs": [
    {
     "name": "stdout",
     "output_type": "stream",
     "text": [
      "CPU times: total: 15.5 s\n",
      "Wall time: 15.3 s\n"
     ]
    },
    {
     "data": {
      "text/plain": [
       "(11654375, 28)"
      ]
     },
     "execution_count": 10,
     "metadata": {},
     "output_type": "execute_result"
    }
   ],
   "source": [
    "%%time\n",
    "# Рассчитываем факт приобретения клиентом когда-либо продукта 1 или 2/3/4\n",
    "def get_group_targets(df:pd.DataFrame) -> pd.DataFrame:\n",
    "    # Факт приобретения клиентом когда-либо продукта 1 или 2/3/4\n",
    "    df['is_target'] = df[['target_1', 'target_2', 'target_3', 'target_4']].max(axis=1)\n",
    "    \n",
    "    # Расширеный факт приобретения клиентом когда-либо группы продуктов \n",
    "    df['is_target_1_2'] = df[['target_1', 'target_2']].max(axis=1)\n",
    "    df['is_target_1_3'] = df[['target_1', 'target_3']].max(axis=1)\n",
    "    df['is_target_1_4'] = df[['target_1', 'target_4']].max(axis=1)\n",
    "    df['is_target_2_3'] = df[['target_2', 'target_3']].max(axis=1)\n",
    "    df['is_target_2_4'] = df[['target_2', 'target_4']].max(axis=1)\n",
    "    df['is_target_3_4'] = df[['target_3', 'target_4']].max(axis=1)\n",
    "\n",
    "    df['is_target_123'] = df[['target_1', 'target_2', 'target_3']].max(axis=1)\n",
    "    df['is_target_134'] = df[['target_1', 'target_3', 'target_4']].max(axis=1)\n",
    "    df['is_target_124'] = df[['target_1', 'target_2', 'target_4']].max(axis=1)\n",
    "    df['is_target_234'] = df[['target_2', 'target_3', 'target_4']].max(axis=1)\n",
    "    \n",
    "    # Второй расширеный факт приобретения клиентом когда-либо группы продуктов \n",
    "    df['is_target_1_and_2'] = np.where(df[['target_1', 'target_2']].sum(axis=1) == 2, 1,0)\n",
    "    df['is_target_1_and_3'] = np.where(df[['target_1', 'target_3']].sum(axis=1) == 2, 1,0)\n",
    "    df['is_target_1_and_4'] = np.where(df[['target_1', 'target_4']].sum(axis=1) == 2, 1,0)\n",
    "    df['is_target_2_and_3'] = np.where(df[['target_2', 'target_3']].sum(axis=1) == 2, 1,0)\n",
    "    df['is_target_2_and_4'] = np.where(df[['target_2', 'target_4']].sum(axis=1) == 2, 1,0)\n",
    "    df['is_target_3_and_4'] = np.where(df[['target_3', 'target_4']].sum(axis=1) == 2, 1,0)\n",
    "    \n",
    "    df['is_target_and_123'] = np.where(df[['target_1', 'target_2', 'target_3']].sum(axis=1) == 2, 1,0)\n",
    "    df['is_target_and_134'] = np.where(df[['target_1', 'target_3', 'target_4']].sum(axis=1) == 2, 1,0)\n",
    "    df['is_target_and_124'] = np.where(df[['target_1', 'target_2', 'target_4']].sum(axis=1) == 2, 1,0)\n",
    "    df['is_target_and_234'] = np.where(df[['target_2', 'target_3', 'target_4']].sum(axis=1) == 2, 1,0)    \n",
    "    \n",
    "    # кол-во купленных продуктов\n",
    "    df['is_target_cnt'] = df[['target_1', 'target_2', 'target_3', 'target_4']].sum(axis=1)\n",
    "\n",
    "    return df\n",
    "\n",
    "targets_df = get_group_targets(targets_df)\n",
    "targets_df.shape"
   ]
  },
  {
   "cell_type": "code",
   "execution_count": 11,
   "metadata": {},
   "outputs": [
    {
     "data": {
      "text/plain": [
       "22"
      ]
     },
     "execution_count": 11,
     "metadata": {},
     "output_type": "execute_result"
    }
   ],
   "source": [
    "target_columns = ['target_1', 'target_2', 'target_3', 'target_4',\n",
    "                  'is_target', 'is_target_1_2', 'is_target_1_3',\n",
    "                  'is_target_1_4', 'is_target_2_3', 'is_target_2_4', 'is_target_3_4',\n",
    "                  'is_target_1_and_2', 'is_target_1_and_3', 'is_target_1_and_4',\n",
    "                  'is_target_2_and_3', 'is_target_2_and_4', 'is_target_3_and_4',\n",
    "                  'is_target_123', 'is_target_134', 'is_target_124', 'is_target_234', \n",
    "                  'is_target_cnt']\n",
    "len(target_columns)"
   ]
  },
  {
   "cell_type": "code",
   "execution_count": 12,
   "metadata": {},
   "outputs": [
    {
     "name": "stdout",
     "output_type": "stream",
     "text": [
      "CPU times: total: 1.22 s\n",
      "Wall time: 1.22 s\n"
     ]
    },
    {
     "data": {
      "text/plain": [
       "(12, 26)"
      ]
     },
     "execution_count": 12,
     "metadata": {},
     "output_type": "execute_result"
    }
   ],
   "source": [
    "%%time\n",
    "mon_targets_df = targets_df.groupby(by='mon').agg(\n",
    "    sum_target_1 = ('target_1', sum), \n",
    "    sum_target_2 = ('target_2', sum), \n",
    "    sum_target_3 = ('target_3', sum), \n",
    "    sum_target_4 = ('target_4', sum), \n",
    "    sum_is_target = ('is_target', sum), \n",
    "    sum_is_target_1_2 = ('is_target_1_2', sum), \n",
    "    sum_is_target_1_3 = ('is_target_1_3', sum), \n",
    "    sum_is_target_1_4 = ('is_target_1_4', sum), \n",
    "    sum_is_target_2_3 = ('is_target_2_3', sum), \n",
    "    sum_is_target_2_4 = ('is_target_2_4', sum), \n",
    "    sum_is_target_3_4 = ('is_target_3_4', sum), \n",
    "    sum_is_target_1_and_2 = ('is_target_1_and_2', sum), \n",
    "    sum_is_target_1_and_3 = ('is_target_1_and_3', sum), \n",
    "    sum_is_target_1_and_4 = ('is_target_1_and_4', sum), \n",
    "    sum_is_target_2_and_3 = ('is_target_2_and_3', sum), \n",
    "    sum_is_target_2_and_4 = ('is_target_2_and_4', sum), \n",
    "    sum_is_target_3_and_4 = ('is_target_3_and_4', sum), \n",
    "    sum_is_target_123 = ('is_target_123', sum), \n",
    "    sum_is_target_134 = ('is_target_134', sum), \n",
    "    sum_is_target_124 = ('is_target_124', sum), \n",
    "    sum_is_target_234 = ('is_target_234', sum), \n",
    "    sum_is_target_cnt = ('is_target_cnt', sum),  \n",
    ")\n",
    "mon_targets_df = mon_targets_df.reset_index()\n",
    "mon_targets_df['next_mon'] = mon_targets_df['mon'].shift(1)\n",
    "mon_targets_df['pre_mon'] = mon_targets_df['mon'].shift(-1)\n",
    "mon_targets_df['prepre_mon'] = mon_targets_df['mon'].shift(-2)\n",
    "\n",
    "mon_targets_df.shape"
   ]
  },
  {
   "cell_type": "code",
   "execution_count": null,
   "metadata": {},
   "outputs": [],
   "source": []
  },
  {
   "cell_type": "code",
   "execution_count": null,
   "metadata": {},
   "outputs": [],
   "source": []
  },
  {
   "cell_type": "code",
   "execution_count": 13,
   "metadata": {
    "scrolled": true
   },
   "outputs": [
    {
     "name": "stderr",
     "output_type": "stream",
     "text": [
      "\r",
      "  0%|          | 0/16 [00:00<?, ?it/s]"
     ]
    },
    {
     "name": "stdout",
     "output_type": "stream",
     "text": [
      "start: 2022-01-01 00:00:00, end: 2022-01-31 00:00:00\n",
      "(0, 28) (0, 28)\n"
     ]
    },
    {
     "name": "stderr",
     "output_type": "stream",
     "text": [
      "\r",
      "  6%|▋         | 1/16 [00:03<00:59,  3.97s/it]"
     ]
    },
    {
     "name": "stdout",
     "output_type": "stream",
     "text": [
      "start: 2022-02-01 00:00:00, end: 2022-02-28 00:00:00\n",
      "(994380, 28) (994380, 28)\n"
     ]
    },
    {
     "name": "stderr",
     "output_type": "stream",
     "text": [
      "\r",
      " 12%|█▎        | 2/16 [00:21<02:51, 12.22s/it]"
     ]
    },
    {
     "name": "stdout",
     "output_type": "stream",
     "text": [
      "start: 2022-03-01 00:00:00, end: 2022-03-31 00:00:00\n",
      "(994380, 28) (1988760, 28)\n"
     ]
    },
    {
     "name": "stderr",
     "output_type": "stream",
     "text": [
      "\r",
      " 19%|█▉        | 3/16 [00:43<03:34, 16.47s/it]"
     ]
    },
    {
     "name": "stdout",
     "output_type": "stream",
     "text": [
      "start: 2022-04-01 00:00:00, end: 2022-04-30 00:00:00\n",
      "(994380, 28) (2983140, 28)\n"
     ]
    },
    {
     "name": "stderr",
     "output_type": "stream",
     "text": [
      "\r",
      " 25%|██▌       | 4/16 [01:07<03:54, 19.55s/it]"
     ]
    },
    {
     "name": "stdout",
     "output_type": "stream",
     "text": [
      "start: 2022-05-01 00:00:00, end: 2022-05-31 00:00:00\n",
      "(994380, 28) (3977520, 28)\n"
     ]
    },
    {
     "name": "stderr",
     "output_type": "stream",
     "text": [
      "\r",
      " 31%|███▏      | 5/16 [01:34<04:03, 22.10s/it]"
     ]
    },
    {
     "name": "stdout",
     "output_type": "stream",
     "text": [
      "start: 2022-06-01 00:00:00, end: 2022-06-30 00:00:00\n",
      "(994380, 28) (4971900, 28)\n"
     ]
    },
    {
     "name": "stderr",
     "output_type": "stream",
     "text": [
      "\r",
      " 38%|███▊      | 6/16 [02:02<04:03, 24.31s/it]"
     ]
    },
    {
     "name": "stdout",
     "output_type": "stream",
     "text": [
      "start: 2022-07-01 00:00:00, end: 2022-07-31 00:00:00\n",
      "(994380, 28) (5966280, 28)\n"
     ]
    },
    {
     "name": "stderr",
     "output_type": "stream",
     "text": [
      "\r",
      " 44%|████▍     | 7/16 [02:33<03:57, 26.40s/it]"
     ]
    },
    {
     "name": "stdout",
     "output_type": "stream",
     "text": [
      "start: 2022-08-01 00:00:00, end: 2022-08-31 00:00:00\n",
      "(994380, 28) (6960660, 28)\n"
     ]
    },
    {
     "name": "stderr",
     "output_type": "stream",
     "text": [
      "\r",
      " 50%|█████     | 8/16 [03:05<03:45, 28.21s/it]"
     ]
    },
    {
     "name": "stdout",
     "output_type": "stream",
     "text": [
      "start: 2022-09-01 00:00:00, end: 2022-09-30 00:00:00\n",
      "(994380, 28) (7955040, 28)\n"
     ]
    },
    {
     "name": "stderr",
     "output_type": "stream",
     "text": [
      "\r",
      " 56%|█████▋    | 9/16 [03:39<03:28, 29.84s/it]"
     ]
    },
    {
     "name": "stdout",
     "output_type": "stream",
     "text": [
      "start: 2022-10-01 00:00:00, end: 2022-10-31 00:00:00\n",
      "(994380, 28) (8949420, 28)\n"
     ]
    },
    {
     "name": "stderr",
     "output_type": "stream",
     "text": [
      "\r",
      " 62%|██████▎   | 10/16 [04:16<03:13, 32.27s/it]"
     ]
    },
    {
     "name": "stdout",
     "output_type": "stream",
     "text": [
      "start: 2022-11-01 00:00:00, end: 2022-11-30 00:00:00\n",
      "(948294, 28) (9897714, 28)\n"
     ]
    },
    {
     "name": "stderr",
     "output_type": "stream",
     "text": [
      "\r",
      " 69%|██████▉   | 11/16 [04:53<02:48, 33.67s/it]"
     ]
    },
    {
     "name": "stdout",
     "output_type": "stream",
     "text": [
      "start: 2022-12-01 00:00:00, end: 2022-12-31 00:00:00\n",
      "(902769, 28) (10800483, 28)\n"
     ]
    },
    {
     "name": "stderr",
     "output_type": "stream",
     "text": [
      "\r",
      " 75%|███████▌  | 12/16 [05:31<02:19, 34.76s/it]"
     ]
    },
    {
     "name": "stdout",
     "output_type": "stream",
     "text": [
      "start: 2023-01-01 00:00:00, end: 2023-01-31 00:00:00\n",
      "(853892, 28) (11654375, 28)\n"
     ]
    },
    {
     "name": "stderr",
     "output_type": "stream",
     "text": [
      "\r",
      " 81%|████████▏ | 13/16 [06:10<01:48, 36.20s/it]"
     ]
    },
    {
     "name": "stdout",
     "output_type": "stream",
     "text": [
      "start: 2023-02-01 00:00:00, end: 2023-02-28 00:00:00\n",
      "(0, 28) (11654375, 28)\n"
     ]
    },
    {
     "name": "stderr",
     "output_type": "stream",
     "text": [
      "\r",
      " 88%|████████▊ | 14/16 [06:47<01:12, 36.35s/it]"
     ]
    },
    {
     "name": "stdout",
     "output_type": "stream",
     "text": [
      "start: 2023-03-01 00:00:00, end: 2023-03-31 00:00:00\n",
      "(0, 28) (11654375, 28)\n"
     ]
    },
    {
     "name": "stderr",
     "output_type": "stream",
     "text": [
      "\r",
      " 94%|█████████▍| 15/16 [07:20<00:35, 35.37s/it]"
     ]
    },
    {
     "name": "stdout",
     "output_type": "stream",
     "text": [
      "start: 2023-04-01 00:00:00, end: 2023-04-30 00:00:00\n",
      "(0, 28) (11654375, 28)\n"
     ]
    },
    {
     "name": "stderr",
     "output_type": "stream",
     "text": [
      "100%|██████████| 16/16 [07:51<00:00, 29.45s/it]"
     ]
    },
    {
     "name": "stdout",
     "output_type": "stream",
     "text": [
      "CPU times: total: 7min 50s\n",
      "Wall time: 7min 51s\n"
     ]
    },
    {
     "name": "stderr",
     "output_type": "stream",
     "text": [
      "\n"
     ]
    },
    {
     "data": {
      "text/plain": [
       "(15910080, 53)"
      ]
     },
     "execution_count": 13,
     "metadata": {},
     "output_type": "execute_result"
    }
   ],
   "source": [
    "%%time\n",
    "# Формируем фичи по таргету\n",
    "begin_date = datetime(2022, 1, 1, 0, 0, 0)\n",
    "start_date = datetime(2022, 1, 1, 0, 0, 0)\n",
    "\n",
    "end_date = datetime(2023, 3, 31, 0, 0, 0)\n",
    "\n",
    "# Бланк-датафрейм с клиентами \n",
    "uniq_clients_df = targets_df[['client_id']].drop_duplicates()\n",
    "# Итоговый датасет \n",
    "union_client_agg_df = pd.DataFrame()\n",
    "\n",
    "# Бежим по месяцам и расчитываем статистики для клиента берем предыдущие месяцы\n",
    "for i in trange(((end_date - start_date).days//30 + 1)):\n",
    "    end_date = start_date + relativedelta(months=1) - relativedelta(days=1)\n",
    "    print(f'start: {start_date}, end: {end_date}')    \n",
    "    select_mon_current_df = targets_df[targets_df['mon'].between(start_date, end_date)]\n",
    "    select_mon_full_df = targets_df[targets_df['mon'].between(begin_date, end_date)]\n",
    "    print(select_mon_current_df.shape, select_mon_full_df.shape)\n",
    "    \n",
    "    client_agg_df = uniq_clients_df.copy()\n",
    "    report_next_end = start_date + relativedelta(months=2) - relativedelta(days=1)\n",
    "    client_agg_df['report_next_end'] = report_next_end\n",
    "    client_agg_df = client_agg_df.set_index('client_id')\n",
    "    \n",
    "    select_mon_full_df = select_mon_full_df.set_index('client_id')\n",
    "    for cur_tar in ['target_1', 'target_2', 'target_3', 'target_4', 'is_target']:\n",
    "        # Расчитываем даты первой и последней покупки продукта \n",
    "        min_max_date_buy = select_mon_full_df[select_mon_full_df[cur_tar] == 1].groupby(by='client_id').agg(\n",
    "                                    first_day_buy = ('mon', min),\n",
    "                                    last_day_buy = ('mon', max),\n",
    "        )\n",
    "        #break\n",
    "        client_agg_df = client_agg_df.merge(min_max_date_buy, left_index=True, right_index=True, how='left')\n",
    "        client_agg_df[f'days_first_buy_{cur_tar}'] = (client_agg_df['report_next_end'] - client_agg_df['first_day_buy']).dt.days\n",
    "        client_agg_df[f'days_last_buy_{cur_tar}'] = (client_agg_df['report_next_end'] - client_agg_df['last_day_buy']).dt.days\n",
    "        client_agg_df = client_agg_df.drop(columns=['first_day_buy', 'last_day_buy'])\n",
    "        client_agg_df = client_agg_df.fillna(0)\n",
    "    \n",
    "    # Количество покупок продуктов за весь период\n",
    "    client_agg_df = client_agg_df.merge(\n",
    "            select_mon_full_df.groupby(by='client_id').agg(\n",
    "                    sum_target_1_by_all_period = ('target_1', sum),\n",
    "                    sum_target_2_by_all_period = ('target_2', sum),\n",
    "                    sum_target_3_by_all_period = ('target_3', sum),\n",
    "                    sum_target_4_by_all_period = ('target_4', sum),\n",
    "                ), left_index=True, right_index=True, how='left'\n",
    "            )\n",
    "    \n",
    "    # Доля покупок по продуктам\n",
    "    client_agg_df['sum_all_target_by_all_period'] = client_agg_df[['sum_target_1_by_all_period', 'sum_target_2_by_all_period', 'sum_target_3_by_all_period', 'sum_target_4_by_all_period']].sum(axis=1)\n",
    "    client_agg_df['prc_target_1by_all_trgs'] = (client_agg_df['sum_target_1_by_all_period'] / client_agg_df['sum_all_target_by_all_period']).fillna(0)\n",
    "    client_agg_df['prc_target_2by_all_trgs'] = (client_agg_df['sum_target_2_by_all_period'] / client_agg_df['sum_all_target_by_all_period']).fillna(0)\n",
    "    client_agg_df['prc_target_3by_all_trgs'] = (client_agg_df['sum_target_3_by_all_period'] / client_agg_df['sum_all_target_by_all_period']).fillna(0)\n",
    "    client_agg_df['prc_target_4by_all_trgs'] = (client_agg_df['sum_target_4_by_all_period'] / client_agg_df['sum_all_target_by_all_period']).fillna(0)\n",
    "    \n",
    "    # Сколько в среднем в месяц клиент покупает продуктов \n",
    "    cnt_month = (end_date - begin_date).days / 30\n",
    "    client_agg_df['mean_all_target_by_per_mon'] = client_agg_df['sum_all_target_by_all_period'] / cnt_month\n",
    "    client_agg_df['mean_target_1_by_per_mon'] = client_agg_df['sum_target_1_by_all_period'] / cnt_month\n",
    "    client_agg_df['mean_target_2_by_per_mon'] = client_agg_df['sum_target_2_by_all_period'] / cnt_month\n",
    "    client_agg_df['mean_target_3_by_per_mon'] = client_agg_df['sum_target_3_by_all_period'] / cnt_month\n",
    "    client_agg_df['mean_target_4_by_per_mon'] = client_agg_df['sum_target_4_by_all_period'] / cnt_month    \n",
    "    \n",
    "    # Количество покупок продуктов за 30 дней\n",
    "    client_agg_df = client_agg_df.merge(\n",
    "            select_mon_full_df[select_mon_full_df['mon'] >= report_next_end - relativedelta(months=1)].groupby(by='client_id').agg(\n",
    "                    sum_target_1_by_1_mon = ('target_1', sum),\n",
    "                    sum_target_2_by_1_mon = ('target_2', sum),\n",
    "                    sum_target_3_by_1_mon = ('target_3', sum),\n",
    "                    sum_target_4_by_1_mon = ('target_4', sum),\n",
    "                ), left_index=True, right_index=True, how='left'\n",
    "            )\n",
    "    # Количество покупок продуктов за 60 дней\n",
    "    client_agg_df = client_agg_df.merge(\n",
    "            select_mon_full_df[select_mon_full_df['mon'] >= report_next_end - relativedelta(months=2)].groupby(by='client_id').agg(\n",
    "                    sum_target_1_by_2_mon = ('target_1', sum),\n",
    "                    sum_target_2_by_2_mon = ('target_2', sum),\n",
    "                    sum_target_3_by_2_mon = ('target_3', sum),\n",
    "                    sum_target_4_by_2_mon = ('target_4', sum),\n",
    "                ), left_index=True, right_index=True, how='left'\n",
    "            )\n",
    "    \n",
    "    # Количество покупок продуктов за 90 дней\n",
    "    client_agg_df = client_agg_df.merge(\n",
    "            select_mon_full_df[select_mon_full_df['mon'] >= report_next_end - relativedelta(months=3)].groupby(by='client_id').agg(\n",
    "                    sum_target_1_by_3_mon = ('target_1', sum),\n",
    "                    sum_target_2_by_3_mon = ('target_2', sum),\n",
    "                    sum_target_3_by_3_mon = ('target_3', sum),\n",
    "                    sum_target_4_by_3_mon = ('target_4', sum),\n",
    "                ), left_index=True, right_index=True, how='left'\n",
    "            )\n",
    "    # Количество покупок продуктов за 120 дней\n",
    "    client_agg_df = client_agg_df.merge(\n",
    "            select_mon_full_df[select_mon_full_df['mon'] >= report_next_end - relativedelta(months=4)].groupby(by='client_id').agg(\n",
    "                    sum_target_1_by_4_mon = ('target_1', sum),\n",
    "                    sum_target_2_by_4_mon = ('target_2', sum),\n",
    "                    sum_target_3_by_4_mon = ('target_3', sum),\n",
    "                    sum_target_4_by_4_mon = ('target_4', sum),\n",
    "                ), left_index=True, right_index=True, how='left'\n",
    "            )\n",
    "    # Количество покупок продуктов за 150 дней\n",
    "    client_agg_df = client_agg_df.merge(\n",
    "            select_mon_full_df[select_mon_full_df['mon'] >= report_next_end - relativedelta(months=5)].groupby(by='client_id').agg(\n",
    "                    sum_target_1_by_5_mon = ('target_1', sum),\n",
    "                    sum_target_2_by_5_mon = ('target_2', sum),\n",
    "                    sum_target_3_by_5_mon = ('target_3', sum),\n",
    "                    sum_target_4_by_5_mon = ('target_4', sum),\n",
    "                ), left_index=True, right_index=True, how='left'\n",
    "            )\n",
    "    # Количество покупок продуктов за 180 дней\n",
    "    client_agg_df = client_agg_df.merge(\n",
    "            select_mon_full_df[select_mon_full_df['mon'] >= report_next_end - relativedelta(months=6)].groupby(by='client_id').agg(\n",
    "                    sum_target_1_by_6_mon = ('target_1', sum),\n",
    "                    sum_target_2_by_6_mon = ('target_2', sum),\n",
    "                    sum_target_3_by_6_mon = ('target_3', sum),\n",
    "                    sum_target_4_by_6_mon = ('target_4', sum),\n",
    "                ), left_index=True, right_index=True, how='left'\n",
    "            )\n",
    "    \n",
    "    # Период неактивности    \n",
    "    period_noactive_target = select_mon_full_df[select_mon_full_df['target_1'] == 0].sort_values(by=['client_id', 'mon'])\n",
    "    period_noactive_target['shift_mon'] = period_noactive_target.groupby('client_id')['mon'].shift(1)\n",
    "    period_noactive_target['period_noactive_target'] = (period_noactive_target['mon'] - period_noactive_target['shift_mon']).dt.days.fillna(0)\n",
    "    period_noactive_target = period_noactive_target.groupby(by='client_id').agg(\n",
    "           max_period_noactive_target = ('period_noactive_target', max),\n",
    "           min_period_noactive_target = ('period_noactive_target', min),\n",
    "           avg_period_noactive_target = ('period_noactive_target', np.mean),\n",
    "           median_period_noactive_target = ('period_noactive_target', np.median),\n",
    "    )\n",
    "    client_agg_df = client_agg_df.merge(period_noactive_target, left_index=True, right_index=True, how='left')\n",
    "    \n",
    "    union_client_agg_df = pd.concat([union_client_agg_df, client_agg_df])\n",
    "    start_date = start_date + relativedelta(months=1)\n",
    "union_client_agg_df.shape"
   ]
  },
  {
   "cell_type": "code",
   "execution_count": 14,
   "metadata": {
    "scrolled": true
   },
   "outputs": [
    {
     "name": "stdout",
     "output_type": "stream",
     "text": [
      "CPU times: total: 1min 2s\n",
      "Wall time: 1min 3s\n"
     ]
    },
    {
     "data": {
      "text/plain": [
       "((15910080, 53), (12, 26))"
      ]
     },
     "execution_count": 14,
     "metadata": {},
     "output_type": "execute_result"
    }
   ],
   "source": [
    "%%time\n",
    "# Уменьшение размера датафрейма, для таргетов, транзакцй и для фичей\n",
    "def series_to_int(col_df:pd.Series):\n",
    "    \"\"\"\n",
    "    Перевод в целочисленные типы\n",
    "    \"\"\"\n",
    "    min_val = col_df.min()\n",
    "    max_val = col_df.max()\n",
    "    if min_val >= -128 and max_val <= 127:\n",
    "        col_df = col_df.astype('int8')\n",
    "    elif min_val >= -32768 and max_val <= 32767:\n",
    "        col_df = col_df.astype('int16')\n",
    "    elif min_val >= -2147483648 and max_val <= 2147483647:\n",
    "        col_df = col_df.astype('int32')\n",
    "    else:\n",
    "        col_df = col_df.astype('int64')\n",
    "    return col_df\n",
    "\n",
    "def compression_df(df:pd.DataFrame(), datetime_cols:List[str]=[], category_cols:List[str]=[]):\n",
    "    \"\"\"\n",
    "    Уменьшение размера датафрейма, для таргетов, транзакцй и для фичей\n",
    "    \"\"\"\n",
    "    float64_cols = list(df.select_dtypes(include='float64'))  \n",
    "    df[float64_cols] = df[float64_cols].astype('float32')\n",
    "    for col in df.columns:\n",
    "        if col in category_cols:\n",
    "            df[col] = df[col].astype('category')\n",
    "        elif col in datetime_cols:\n",
    "            if df[col].dtypes == 'object':\n",
    "                df[col] = pd.to_datetime(df[col])\n",
    "        # Если колонка содержит числа \n",
    "        elif is_integer_dtype(df[col]):\n",
    "            if df[col].dtypes == 'int8':\n",
    "                continue\n",
    "            else:\n",
    "                df[col] = series_to_int(df[col])\n",
    "        elif is_float_dtype(df[col]):\n",
    "            # Возможно ли перевести в число\n",
    "            if np.array_equal(df[col].fillna(0), df[col].fillna(0).astype(int)):\n",
    "                df[col] = df[col].fillna(0)\n",
    "                df[col] = series_to_int(df[col])\n",
    "    return df\n",
    "union_client_agg_df = compression_df(union_client_agg_df, \n",
    "                            datetime_cols=['report_end' ,'report_next_end'],\n",
    "                           )\n",
    "\n",
    "mon_targets_df = compression_df(mon_targets_df, \n",
    "                            datetime_cols=['mon', 'pre_mon', 'next_mon', 'prepre_mon'],\n",
    "                           )\n",
    "union_client_agg_df.shape, mon_targets_df.shape"
   ]
  },
  {
   "cell_type": "markdown",
   "metadata": {},
   "source": [
    "## Объединяем с агрегированными данными по месяцам"
   ]
  },
  {
   "cell_type": "code",
   "execution_count": 15,
   "metadata": {},
   "outputs": [
    {
     "data": {
      "text/plain": [
       "(15910080, 53)"
      ]
     },
     "execution_count": 15,
     "metadata": {},
     "output_type": "execute_result"
    }
   ],
   "source": [
    "# union_client_agg_df['report_next_end'].min()\n",
    "union_client_agg_df = union_client_agg_df.reset_index('client_id').set_index('report_next_end')\n",
    "union_client_agg_df.shape"
   ]
  },
  {
   "cell_type": "code",
   "execution_count": 16,
   "metadata": {},
   "outputs": [
    {
     "name": "stdout",
     "output_type": "stream",
     "text": [
      "CPU times: total: 47.6 s\n",
      "Wall time: 45 s\n"
     ]
    },
    {
     "data": {
      "text/plain": [
       "(15910080, 96)"
      ]
     },
     "execution_count": 16,
     "metadata": {},
     "output_type": "execute_result"
    }
   ],
   "source": [
    "%%time\n",
    "union_client_agg_df = union_client_agg_df.merge(\n",
    "                mon_targets_df.drop(columns=['mon', 'next_mon', 'prepre_mon']).set_index('pre_mon').add_prefix('agg_premon_'),\n",
    "                left_index=True,\n",
    "                right_index=True,    \n",
    "                how='left')\n",
    "gc.collect()\n",
    "\n",
    "\n",
    "# Все-таки это своего рода заглывание вперед убираем, лучше добавить предпоследний месяц\n",
    "# union_client_agg_df = union_client_agg_df.merge(\n",
    "#                 mon_targets_df.drop(columns=['pre_mon', 'next_mon']).set_index('mon').add_prefix('agg_curmon_'),\n",
    "#                 left_index=True,\n",
    "#                 right_index=True,    \n",
    "#                 how='left')\n",
    "\n",
    "# gc.collect()\n",
    "\n",
    "# union_client_agg_df = union_client_agg_df.merge(\n",
    "#                 mon_targets_df.drop(columns=['pre_mon', 'mon']).set_index('next_mon').add_prefix('agg_nxtmon_'),\n",
    "#                 left_index=True,\n",
    "#                 right_index=True,    \n",
    "#                 how='left')\n",
    "\n",
    "union_client_agg_df = union_client_agg_df.merge(\n",
    "                mon_targets_df.drop(columns=['mon', 'next_mon', 'pre_mon']).set_index('prepre_mon').add_prefix('agg_prepremon_'),\n",
    "                left_index=True,\n",
    "                right_index=True,    \n",
    "                how='left')\n",
    "gc.collect()\n",
    "gc.collect()\n",
    "union_client_agg_df = union_client_agg_df.fillna(0)\n",
    "# union_client_agg_df = union_client_agg_df.reset_index().rename(columns={'index': 'report_next_end'}).set_index(['client_id','report_next_end'])\n",
    "union_client_agg_df = union_client_agg_df.reset_index().rename(columns={'index': 'report_next_end'})\n",
    "union_client_agg_df = union_client_agg_df.sort_values(by=['client_id','report_next_end']).set_index(['client_id','report_next_end'])\n",
    "\n",
    "union_client_agg_df.shape"
   ]
  },
  {
   "cell_type": "code",
   "execution_count": 17,
   "metadata": {},
   "outputs": [
    {
     "name": "stdout",
     "output_type": "stream",
     "text": [
      "CPU times: total: 27.9 s\n",
      "Wall time: 25.4 s\n"
     ]
    }
   ],
   "source": [
    "%%time\n",
    "# Сохраняем в файл оптимизированный файл \n",
    "union_client_agg_df.to_parquet(PATH_DATASET_OUTPUT + 'client_agg_target_09_06_2024.parquet')"
   ]
  },
  {
   "cell_type": "code",
   "execution_count": null,
   "metadata": {},
   "outputs": [],
   "source": []
  },
  {
   "cell_type": "code",
   "execution_count": null,
   "metadata": {},
   "outputs": [],
   "source": []
  }
 ],
 "metadata": {
  "kernelspec": {
   "display_name": "Python 3 (ipykernel)",
   "language": "python",
   "name": "python3"
  },
  "language_info": {
   "codemirror_mode": {
    "name": "ipython",
    "version": 3
   },
   "file_extension": ".py",
   "mimetype": "text/x-python",
   "name": "python",
   "nbconvert_exporter": "python",
   "pygments_lexer": "ipython3",
   "version": "3.11.3"
  }
 },
 "nbformat": 4,
 "nbformat_minor": 1
}
